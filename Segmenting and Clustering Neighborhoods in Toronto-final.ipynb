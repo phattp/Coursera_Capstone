{
 "cells": [
  {
   "cell_type": "markdown",
   "metadata": {},
   "source": [
    "# Segmenting and Clustering Neighborhoods in Toronto"
   ]
  },
  {
   "cell_type": "code",
   "execution_count": 22,
   "metadata": {},
   "outputs": [
    {
     "name": "stdout",
     "output_type": "stream",
     "text": [
      "Libraries imported.\n"
     ]
    }
   ],
   "source": [
    "#import necessary libraries\n",
    "from bs4 import BeautifulSoup\n",
    "from pathlib import Path\n",
    "\n",
    "import numpy as np # library to handle data in a vectorized manner\n",
    "\n",
    "import pandas as pd # library for data analsysis\n",
    "\n",
    "import json # library to handle JSON files\n",
    "\n",
    "from geopy.geocoders import Nominatim # convert an address into latitude and longitude values\n",
    "\n",
    "import requests # library to handle requests\n",
    "from pandas.io.json import json_normalize # tranform JSON file into a pandas dataframe\n",
    "\n",
    "# Matplotlib and associated plotting modules\n",
    "import matplotlib.cm as cm\n",
    "import matplotlib.colors as colors\n",
    "\n",
    "# import k-means from clustering stage\n",
    "from sklearn.cluster import KMeans\n",
    "\n",
    "\n",
    "import folium # map rendering library\n",
    "\n",
    "print('Libraries imported.')"
   ]
  },
  {
   "cell_type": "code",
   "execution_count": 23,
   "metadata": {},
   "outputs": [],
   "source": [
    "latlong = pd.read_csv(Path('data/Geospatial_Coordinates.csv'))"
   ]
  },
  {
   "cell_type": "code",
   "execution_count": 24,
   "metadata": {},
   "outputs": [
    {
     "data": {
      "text/html": [
       "<div>\n",
       "<style scoped>\n",
       "    .dataframe tbody tr th:only-of-type {\n",
       "        vertical-align: middle;\n",
       "    }\n",
       "\n",
       "    .dataframe tbody tr th {\n",
       "        vertical-align: top;\n",
       "    }\n",
       "\n",
       "    .dataframe thead th {\n",
       "        text-align: right;\n",
       "    }\n",
       "</style>\n",
       "<table border=\"1\" class=\"dataframe\">\n",
       "  <thead>\n",
       "    <tr style=\"text-align: right;\">\n",
       "      <th></th>\n",
       "      <th>Postal Code</th>\n",
       "      <th>Latitude</th>\n",
       "      <th>Longitude</th>\n",
       "    </tr>\n",
       "  </thead>\n",
       "  <tbody>\n",
       "    <tr>\n",
       "      <th>0</th>\n",
       "      <td>M1B</td>\n",
       "      <td>43.806686</td>\n",
       "      <td>-79.194353</td>\n",
       "    </tr>\n",
       "    <tr>\n",
       "      <th>1</th>\n",
       "      <td>M1C</td>\n",
       "      <td>43.784535</td>\n",
       "      <td>-79.160497</td>\n",
       "    </tr>\n",
       "    <tr>\n",
       "      <th>2</th>\n",
       "      <td>M1E</td>\n",
       "      <td>43.763573</td>\n",
       "      <td>-79.188711</td>\n",
       "    </tr>\n",
       "    <tr>\n",
       "      <th>3</th>\n",
       "      <td>M1G</td>\n",
       "      <td>43.770992</td>\n",
       "      <td>-79.216917</td>\n",
       "    </tr>\n",
       "    <tr>\n",
       "      <th>4</th>\n",
       "      <td>M1H</td>\n",
       "      <td>43.773136</td>\n",
       "      <td>-79.239476</td>\n",
       "    </tr>\n",
       "  </tbody>\n",
       "</table>\n",
       "</div>"
      ],
      "text/plain": [
       "  Postal Code   Latitude  Longitude\n",
       "0         M1B  43.806686 -79.194353\n",
       "1         M1C  43.784535 -79.160497\n",
       "2         M1E  43.763573 -79.188711\n",
       "3         M1G  43.770992 -79.216917\n",
       "4         M1H  43.773136 -79.239476"
      ]
     },
     "execution_count": 24,
     "metadata": {},
     "output_type": "execute_result"
    }
   ],
   "source": [
    "latlong.head()"
   ]
  },
  {
   "cell_type": "code",
   "execution_count": 25,
   "metadata": {},
   "outputs": [
    {
     "data": {
      "text/plain": [
       "(103, 3)"
      ]
     },
     "execution_count": 25,
     "metadata": {},
     "output_type": "execute_result"
    }
   ],
   "source": [
    "latlong.shape"
   ]
  },
  {
   "cell_type": "markdown",
   "metadata": {},
   "source": [
    "#### Scraped data from wikipedia and convert into dataframe."
   ]
  },
  {
   "cell_type": "code",
   "execution_count": 26,
   "metadata": {
    "scrolled": false
   },
   "outputs": [
    {
     "data": {
      "text/html": [
       "<div>\n",
       "<style scoped>\n",
       "    .dataframe tbody tr th:only-of-type {\n",
       "        vertical-align: middle;\n",
       "    }\n",
       "\n",
       "    .dataframe tbody tr th {\n",
       "        vertical-align: top;\n",
       "    }\n",
       "\n",
       "    .dataframe thead th {\n",
       "        text-align: right;\n",
       "    }\n",
       "</style>\n",
       "<table border=\"1\" class=\"dataframe\">\n",
       "  <thead>\n",
       "    <tr style=\"text-align: right;\">\n",
       "      <th></th>\n",
       "      <th>Postal code</th>\n",
       "      <th>Borough</th>\n",
       "      <th>Neighborhood</th>\n",
       "    </tr>\n",
       "  </thead>\n",
       "  <tbody>\n",
       "    <tr>\n",
       "      <th>0</th>\n",
       "      <td>M1A</td>\n",
       "      <td>Not assigned</td>\n",
       "      <td>NaN</td>\n",
       "    </tr>\n",
       "    <tr>\n",
       "      <th>1</th>\n",
       "      <td>M2A</td>\n",
       "      <td>Not assigned</td>\n",
       "      <td>NaN</td>\n",
       "    </tr>\n",
       "    <tr>\n",
       "      <th>2</th>\n",
       "      <td>M3A</td>\n",
       "      <td>North York</td>\n",
       "      <td>Parkwoods</td>\n",
       "    </tr>\n",
       "    <tr>\n",
       "      <th>3</th>\n",
       "      <td>M4A</td>\n",
       "      <td>North York</td>\n",
       "      <td>Victoria Village</td>\n",
       "    </tr>\n",
       "    <tr>\n",
       "      <th>4</th>\n",
       "      <td>M5A</td>\n",
       "      <td>Downtown Toronto</td>\n",
       "      <td>Regent Park / Harbourfront</td>\n",
       "    </tr>\n",
       "  </tbody>\n",
       "</table>\n",
       "</div>"
      ],
      "text/plain": [
       "  Postal code           Borough                Neighborhood\n",
       "0         M1A      Not assigned                         NaN\n",
       "1         M2A      Not assigned                         NaN\n",
       "2         M3A        North York                   Parkwoods\n",
       "3         M4A        North York            Victoria Village\n",
       "4         M5A  Downtown Toronto  Regent Park / Harbourfront"
      ]
     },
     "execution_count": 26,
     "metadata": {},
     "output_type": "execute_result"
    }
   ],
   "source": [
    "source = requests.get('https://en.wikipedia.org/wiki/List_of_postal_codes_of_Canada:_M').text\n",
    "soup = BeautifulSoup(source, 'lxml')\n",
    "table = soup.find('table', {'class':'wikitable sortable'})\n",
    "df = pd.read_html(str(table))[0]\n",
    "df.head()"
   ]
  },
  {
   "cell_type": "markdown",
   "metadata": {},
   "source": [
    "#### Drop \"Not assigned\" value in Borough column."
   ]
  },
  {
   "cell_type": "code",
   "execution_count": 27,
   "metadata": {},
   "outputs": [
    {
     "data": {
      "text/plain": [
       "Postal code     0\n",
       "Borough         0\n",
       "Neighborhood    0\n",
       "dtype: int64"
      ]
     },
     "execution_count": 27,
     "metadata": {},
     "output_type": "execute_result"
    }
   ],
   "source": [
    "df = df[df['Borough'] != 'Not assigned']\n",
    "df.reset_index(drop=True, inplace=True)\n",
    "df[df['Borough'] == 'Not assigned'].count()"
   ]
  },
  {
   "cell_type": "markdown",
   "metadata": {},
   "source": [
    "#### Replace / with ,"
   ]
  },
  {
   "cell_type": "code",
   "execution_count": 28,
   "metadata": {},
   "outputs": [
    {
     "data": {
      "text/html": [
       "<div>\n",
       "<style scoped>\n",
       "    .dataframe tbody tr th:only-of-type {\n",
       "        vertical-align: middle;\n",
       "    }\n",
       "\n",
       "    .dataframe tbody tr th {\n",
       "        vertical-align: top;\n",
       "    }\n",
       "\n",
       "    .dataframe thead th {\n",
       "        text-align: right;\n",
       "    }\n",
       "</style>\n",
       "<table border=\"1\" class=\"dataframe\">\n",
       "  <thead>\n",
       "    <tr style=\"text-align: right;\">\n",
       "      <th></th>\n",
       "      <th>Postal code</th>\n",
       "      <th>Borough</th>\n",
       "      <th>Neighborhood</th>\n",
       "    </tr>\n",
       "  </thead>\n",
       "  <tbody>\n",
       "    <tr>\n",
       "      <th>0</th>\n",
       "      <td>M3A</td>\n",
       "      <td>North York</td>\n",
       "      <td>Parkwoods</td>\n",
       "    </tr>\n",
       "    <tr>\n",
       "      <th>1</th>\n",
       "      <td>M4A</td>\n",
       "      <td>North York</td>\n",
       "      <td>Victoria Village</td>\n",
       "    </tr>\n",
       "    <tr>\n",
       "      <th>2</th>\n",
       "      <td>M5A</td>\n",
       "      <td>Downtown Toronto</td>\n",
       "      <td>Regent Park, Harbourfront</td>\n",
       "    </tr>\n",
       "    <tr>\n",
       "      <th>3</th>\n",
       "      <td>M6A</td>\n",
       "      <td>North York</td>\n",
       "      <td>Lawrence Manor, Lawrence Heights</td>\n",
       "    </tr>\n",
       "    <tr>\n",
       "      <th>4</th>\n",
       "      <td>M7A</td>\n",
       "      <td>Downtown Toronto</td>\n",
       "      <td>Queen's Park, Ontario Provincial Government</td>\n",
       "    </tr>\n",
       "    <tr>\n",
       "      <th>5</th>\n",
       "      <td>M9A</td>\n",
       "      <td>Etobicoke</td>\n",
       "      <td>Islington Avenue</td>\n",
       "    </tr>\n",
       "    <tr>\n",
       "      <th>6</th>\n",
       "      <td>M1B</td>\n",
       "      <td>Scarborough</td>\n",
       "      <td>Malvern, Rouge</td>\n",
       "    </tr>\n",
       "    <tr>\n",
       "      <th>7</th>\n",
       "      <td>M3B</td>\n",
       "      <td>North York</td>\n",
       "      <td>Don Mills</td>\n",
       "    </tr>\n",
       "    <tr>\n",
       "      <th>8</th>\n",
       "      <td>M4B</td>\n",
       "      <td>East York</td>\n",
       "      <td>Parkview Hill, Woodbine Gardens</td>\n",
       "    </tr>\n",
       "    <tr>\n",
       "      <th>9</th>\n",
       "      <td>M5B</td>\n",
       "      <td>Downtown Toronto</td>\n",
       "      <td>Garden District, Ryerson</td>\n",
       "    </tr>\n",
       "    <tr>\n",
       "      <th>10</th>\n",
       "      <td>M6B</td>\n",
       "      <td>North York</td>\n",
       "      <td>Glencairn</td>\n",
       "    </tr>\n",
       "    <tr>\n",
       "      <th>11</th>\n",
       "      <td>M9B</td>\n",
       "      <td>Etobicoke</td>\n",
       "      <td>West Deane Park, Princess Gardens, Martin Grov...</td>\n",
       "    </tr>\n",
       "  </tbody>\n",
       "</table>\n",
       "</div>"
      ],
      "text/plain": [
       "   Postal code           Borough  \\\n",
       "0          M3A        North York   \n",
       "1          M4A        North York   \n",
       "2          M5A  Downtown Toronto   \n",
       "3          M6A        North York   \n",
       "4          M7A  Downtown Toronto   \n",
       "5          M9A         Etobicoke   \n",
       "6          M1B       Scarborough   \n",
       "7          M3B        North York   \n",
       "8          M4B         East York   \n",
       "9          M5B  Downtown Toronto   \n",
       "10         M6B        North York   \n",
       "11         M9B         Etobicoke   \n",
       "\n",
       "                                         Neighborhood  \n",
       "0                                           Parkwoods  \n",
       "1                                    Victoria Village  \n",
       "2                           Regent Park, Harbourfront  \n",
       "3                    Lawrence Manor, Lawrence Heights  \n",
       "4         Queen's Park, Ontario Provincial Government  \n",
       "5                                    Islington Avenue  \n",
       "6                                      Malvern, Rouge  \n",
       "7                                           Don Mills  \n",
       "8                     Parkview Hill, Woodbine Gardens  \n",
       "9                            Garden District, Ryerson  \n",
       "10                                          Glencairn  \n",
       "11  West Deane Park, Princess Gardens, Martin Grov...  "
      ]
     },
     "execution_count": 28,
     "metadata": {},
     "output_type": "execute_result"
    }
   ],
   "source": [
    "df['Neighborhood'] = df['Neighborhood'].str.replace(' /', ',')\n",
    "df.head(12)"
   ]
  },
  {
   "cell_type": "markdown",
   "metadata": {},
   "source": [
    "#### Drop NaN value."
   ]
  },
  {
   "cell_type": "code",
   "execution_count": 29,
   "metadata": {
    "scrolled": true
   },
   "outputs": [
    {
     "data": {
      "text/plain": [
       "Postal code     0\n",
       "Borough         0\n",
       "Neighborhood    0\n",
       "dtype: int64"
      ]
     },
     "execution_count": 29,
     "metadata": {},
     "output_type": "execute_result"
    }
   ],
   "source": [
    "df['Neighborhood'].fillna(df['Borough'], inplace=True)\n",
    "df.isna().sum()"
   ]
  },
  {
   "cell_type": "markdown",
   "metadata": {},
   "source": [
    "#### Rename column to match with latlong dataframe."
   ]
  },
  {
   "cell_type": "code",
   "execution_count": 30,
   "metadata": {},
   "outputs": [],
   "source": [
    "df.rename(columns={\"Postal code\": \"Postal Code\"}, inplace=True)"
   ]
  },
  {
   "cell_type": "markdown",
   "metadata": {},
   "source": [
    "#### Show the data."
   ]
  },
  {
   "cell_type": "code",
   "execution_count": 31,
   "metadata": {},
   "outputs": [
    {
     "data": {
      "text/html": [
       "<div>\n",
       "<style scoped>\n",
       "    .dataframe tbody tr th:only-of-type {\n",
       "        vertical-align: middle;\n",
       "    }\n",
       "\n",
       "    .dataframe tbody tr th {\n",
       "        vertical-align: top;\n",
       "    }\n",
       "\n",
       "    .dataframe thead th {\n",
       "        text-align: right;\n",
       "    }\n",
       "</style>\n",
       "<table border=\"1\" class=\"dataframe\">\n",
       "  <thead>\n",
       "    <tr style=\"text-align: right;\">\n",
       "      <th></th>\n",
       "      <th>Postal Code</th>\n",
       "      <th>Borough</th>\n",
       "      <th>Neighborhood</th>\n",
       "    </tr>\n",
       "  </thead>\n",
       "  <tbody>\n",
       "    <tr>\n",
       "      <th>0</th>\n",
       "      <td>M3A</td>\n",
       "      <td>North York</td>\n",
       "      <td>Parkwoods</td>\n",
       "    </tr>\n",
       "    <tr>\n",
       "      <th>1</th>\n",
       "      <td>M4A</td>\n",
       "      <td>North York</td>\n",
       "      <td>Victoria Village</td>\n",
       "    </tr>\n",
       "    <tr>\n",
       "      <th>2</th>\n",
       "      <td>M5A</td>\n",
       "      <td>Downtown Toronto</td>\n",
       "      <td>Regent Park, Harbourfront</td>\n",
       "    </tr>\n",
       "    <tr>\n",
       "      <th>3</th>\n",
       "      <td>M6A</td>\n",
       "      <td>North York</td>\n",
       "      <td>Lawrence Manor, Lawrence Heights</td>\n",
       "    </tr>\n",
       "    <tr>\n",
       "      <th>4</th>\n",
       "      <td>M7A</td>\n",
       "      <td>Downtown Toronto</td>\n",
       "      <td>Queen's Park, Ontario Provincial Government</td>\n",
       "    </tr>\n",
       "    <tr>\n",
       "      <th>5</th>\n",
       "      <td>M9A</td>\n",
       "      <td>Etobicoke</td>\n",
       "      <td>Islington Avenue</td>\n",
       "    </tr>\n",
       "    <tr>\n",
       "      <th>6</th>\n",
       "      <td>M1B</td>\n",
       "      <td>Scarborough</td>\n",
       "      <td>Malvern, Rouge</td>\n",
       "    </tr>\n",
       "    <tr>\n",
       "      <th>7</th>\n",
       "      <td>M3B</td>\n",
       "      <td>North York</td>\n",
       "      <td>Don Mills</td>\n",
       "    </tr>\n",
       "    <tr>\n",
       "      <th>8</th>\n",
       "      <td>M4B</td>\n",
       "      <td>East York</td>\n",
       "      <td>Parkview Hill, Woodbine Gardens</td>\n",
       "    </tr>\n",
       "    <tr>\n",
       "      <th>9</th>\n",
       "      <td>M5B</td>\n",
       "      <td>Downtown Toronto</td>\n",
       "      <td>Garden District, Ryerson</td>\n",
       "    </tr>\n",
       "    <tr>\n",
       "      <th>10</th>\n",
       "      <td>M6B</td>\n",
       "      <td>North York</td>\n",
       "      <td>Glencairn</td>\n",
       "    </tr>\n",
       "    <tr>\n",
       "      <th>11</th>\n",
       "      <td>M9B</td>\n",
       "      <td>Etobicoke</td>\n",
       "      <td>West Deane Park, Princess Gardens, Martin Grov...</td>\n",
       "    </tr>\n",
       "  </tbody>\n",
       "</table>\n",
       "</div>"
      ],
      "text/plain": [
       "   Postal Code           Borough  \\\n",
       "0          M3A        North York   \n",
       "1          M4A        North York   \n",
       "2          M5A  Downtown Toronto   \n",
       "3          M6A        North York   \n",
       "4          M7A  Downtown Toronto   \n",
       "5          M9A         Etobicoke   \n",
       "6          M1B       Scarborough   \n",
       "7          M3B        North York   \n",
       "8          M4B         East York   \n",
       "9          M5B  Downtown Toronto   \n",
       "10         M6B        North York   \n",
       "11         M9B         Etobicoke   \n",
       "\n",
       "                                         Neighborhood  \n",
       "0                                           Parkwoods  \n",
       "1                                    Victoria Village  \n",
       "2                           Regent Park, Harbourfront  \n",
       "3                    Lawrence Manor, Lawrence Heights  \n",
       "4         Queen's Park, Ontario Provincial Government  \n",
       "5                                    Islington Avenue  \n",
       "6                                      Malvern, Rouge  \n",
       "7                                           Don Mills  \n",
       "8                     Parkview Hill, Woodbine Gardens  \n",
       "9                            Garden District, Ryerson  \n",
       "10                                          Glencairn  \n",
       "11  West Deane Park, Princess Gardens, Martin Grov...  "
      ]
     },
     "execution_count": 31,
     "metadata": {},
     "output_type": "execute_result"
    }
   ],
   "source": [
    "df.head(12)"
   ]
  },
  {
   "cell_type": "markdown",
   "metadata": {},
   "source": [
    "#### Show shape of dataframe."
   ]
  },
  {
   "cell_type": "code",
   "execution_count": 32,
   "metadata": {},
   "outputs": [
    {
     "data": {
      "text/plain": [
       "(103, 3)"
      ]
     },
     "execution_count": 32,
     "metadata": {},
     "output_type": "execute_result"
    }
   ],
   "source": [
    "df.shape"
   ]
  },
  {
   "cell_type": "markdown",
   "metadata": {},
   "source": [
    "#### Merge df and latlong dataframe together to shows the result."
   ]
  },
  {
   "cell_type": "code",
   "execution_count": 33,
   "metadata": {},
   "outputs": [
    {
     "data": {
      "text/html": [
       "<div>\n",
       "<style scoped>\n",
       "    .dataframe tbody tr th:only-of-type {\n",
       "        vertical-align: middle;\n",
       "    }\n",
       "\n",
       "    .dataframe tbody tr th {\n",
       "        vertical-align: top;\n",
       "    }\n",
       "\n",
       "    .dataframe thead th {\n",
       "        text-align: right;\n",
       "    }\n",
       "</style>\n",
       "<table border=\"1\" class=\"dataframe\">\n",
       "  <thead>\n",
       "    <tr style=\"text-align: right;\">\n",
       "      <th></th>\n",
       "      <th>Postal Code</th>\n",
       "      <th>Borough</th>\n",
       "      <th>Neighborhood</th>\n",
       "      <th>Latitude</th>\n",
       "      <th>Longitude</th>\n",
       "    </tr>\n",
       "  </thead>\n",
       "  <tbody>\n",
       "    <tr>\n",
       "      <th>0</th>\n",
       "      <td>M3A</td>\n",
       "      <td>North York</td>\n",
       "      <td>Parkwoods</td>\n",
       "      <td>43.753259</td>\n",
       "      <td>-79.329656</td>\n",
       "    </tr>\n",
       "    <tr>\n",
       "      <th>1</th>\n",
       "      <td>M4A</td>\n",
       "      <td>North York</td>\n",
       "      <td>Victoria Village</td>\n",
       "      <td>43.725882</td>\n",
       "      <td>-79.315572</td>\n",
       "    </tr>\n",
       "    <tr>\n",
       "      <th>2</th>\n",
       "      <td>M5A</td>\n",
       "      <td>Downtown Toronto</td>\n",
       "      <td>Regent Park, Harbourfront</td>\n",
       "      <td>43.654260</td>\n",
       "      <td>-79.360636</td>\n",
       "    </tr>\n",
       "    <tr>\n",
       "      <th>3</th>\n",
       "      <td>M6A</td>\n",
       "      <td>North York</td>\n",
       "      <td>Lawrence Manor, Lawrence Heights</td>\n",
       "      <td>43.718518</td>\n",
       "      <td>-79.464763</td>\n",
       "    </tr>\n",
       "    <tr>\n",
       "      <th>4</th>\n",
       "      <td>M7A</td>\n",
       "      <td>Downtown Toronto</td>\n",
       "      <td>Queen's Park, Ontario Provincial Government</td>\n",
       "      <td>43.662301</td>\n",
       "      <td>-79.389494</td>\n",
       "    </tr>\n",
       "  </tbody>\n",
       "</table>\n",
       "</div>"
      ],
      "text/plain": [
       "  Postal Code           Borough                                 Neighborhood  \\\n",
       "0         M3A        North York                                    Parkwoods   \n",
       "1         M4A        North York                             Victoria Village   \n",
       "2         M5A  Downtown Toronto                    Regent Park, Harbourfront   \n",
       "3         M6A        North York             Lawrence Manor, Lawrence Heights   \n",
       "4         M7A  Downtown Toronto  Queen's Park, Ontario Provincial Government   \n",
       "\n",
       "    Latitude  Longitude  \n",
       "0  43.753259 -79.329656  \n",
       "1  43.725882 -79.315572  \n",
       "2  43.654260 -79.360636  \n",
       "3  43.718518 -79.464763  \n",
       "4  43.662301 -79.389494  "
      ]
     },
     "execution_count": 33,
     "metadata": {},
     "output_type": "execute_result"
    }
   ],
   "source": [
    "df_map = pd.merge(df, latlong, on='Postal Code')\n",
    "df_map.head()"
   ]
  },
  {
   "cell_type": "markdown",
   "metadata": {},
   "source": [
    "#### Drop Postal Code column"
   ]
  },
  {
   "cell_type": "code",
   "execution_count": 34,
   "metadata": {},
   "outputs": [
    {
     "data": {
      "text/html": [
       "<div>\n",
       "<style scoped>\n",
       "    .dataframe tbody tr th:only-of-type {\n",
       "        vertical-align: middle;\n",
       "    }\n",
       "\n",
       "    .dataframe tbody tr th {\n",
       "        vertical-align: top;\n",
       "    }\n",
       "\n",
       "    .dataframe thead th {\n",
       "        text-align: right;\n",
       "    }\n",
       "</style>\n",
       "<table border=\"1\" class=\"dataframe\">\n",
       "  <thead>\n",
       "    <tr style=\"text-align: right;\">\n",
       "      <th></th>\n",
       "      <th>Borough</th>\n",
       "      <th>Neighborhood</th>\n",
       "      <th>Latitude</th>\n",
       "      <th>Longitude</th>\n",
       "    </tr>\n",
       "  </thead>\n",
       "  <tbody>\n",
       "    <tr>\n",
       "      <th>0</th>\n",
       "      <td>North York</td>\n",
       "      <td>Parkwoods</td>\n",
       "      <td>43.753259</td>\n",
       "      <td>-79.329656</td>\n",
       "    </tr>\n",
       "    <tr>\n",
       "      <th>1</th>\n",
       "      <td>North York</td>\n",
       "      <td>Victoria Village</td>\n",
       "      <td>43.725882</td>\n",
       "      <td>-79.315572</td>\n",
       "    </tr>\n",
       "    <tr>\n",
       "      <th>2</th>\n",
       "      <td>Downtown Toronto</td>\n",
       "      <td>Regent Park, Harbourfront</td>\n",
       "      <td>43.654260</td>\n",
       "      <td>-79.360636</td>\n",
       "    </tr>\n",
       "    <tr>\n",
       "      <th>3</th>\n",
       "      <td>North York</td>\n",
       "      <td>Lawrence Manor, Lawrence Heights</td>\n",
       "      <td>43.718518</td>\n",
       "      <td>-79.464763</td>\n",
       "    </tr>\n",
       "    <tr>\n",
       "      <th>4</th>\n",
       "      <td>Downtown Toronto</td>\n",
       "      <td>Queen's Park, Ontario Provincial Government</td>\n",
       "      <td>43.662301</td>\n",
       "      <td>-79.389494</td>\n",
       "    </tr>\n",
       "    <tr>\n",
       "      <th>...</th>\n",
       "      <td>...</td>\n",
       "      <td>...</td>\n",
       "      <td>...</td>\n",
       "      <td>...</td>\n",
       "    </tr>\n",
       "    <tr>\n",
       "      <th>98</th>\n",
       "      <td>Etobicoke</td>\n",
       "      <td>The Kingsway, Montgomery Road, Old Mill North</td>\n",
       "      <td>43.653654</td>\n",
       "      <td>-79.506944</td>\n",
       "    </tr>\n",
       "    <tr>\n",
       "      <th>99</th>\n",
       "      <td>Downtown Toronto</td>\n",
       "      <td>Church and Wellesley</td>\n",
       "      <td>43.665860</td>\n",
       "      <td>-79.383160</td>\n",
       "    </tr>\n",
       "    <tr>\n",
       "      <th>100</th>\n",
       "      <td>East Toronto</td>\n",
       "      <td>Business reply mail Processing CentrE</td>\n",
       "      <td>43.662744</td>\n",
       "      <td>-79.321558</td>\n",
       "    </tr>\n",
       "    <tr>\n",
       "      <th>101</th>\n",
       "      <td>Etobicoke</td>\n",
       "      <td>Old Mill South, King's Mill Park, Sunnylea, Hu...</td>\n",
       "      <td>43.636258</td>\n",
       "      <td>-79.498509</td>\n",
       "    </tr>\n",
       "    <tr>\n",
       "      <th>102</th>\n",
       "      <td>Etobicoke</td>\n",
       "      <td>Mimico NW, The Queensway West, South of Bloor,...</td>\n",
       "      <td>43.628841</td>\n",
       "      <td>-79.520999</td>\n",
       "    </tr>\n",
       "  </tbody>\n",
       "</table>\n",
       "<p>103 rows × 4 columns</p>\n",
       "</div>"
      ],
      "text/plain": [
       "              Borough                                       Neighborhood  \\\n",
       "0          North York                                          Parkwoods   \n",
       "1          North York                                   Victoria Village   \n",
       "2    Downtown Toronto                          Regent Park, Harbourfront   \n",
       "3          North York                   Lawrence Manor, Lawrence Heights   \n",
       "4    Downtown Toronto        Queen's Park, Ontario Provincial Government   \n",
       "..                ...                                                ...   \n",
       "98          Etobicoke      The Kingsway, Montgomery Road, Old Mill North   \n",
       "99   Downtown Toronto                               Church and Wellesley   \n",
       "100      East Toronto              Business reply mail Processing CentrE   \n",
       "101         Etobicoke  Old Mill South, King's Mill Park, Sunnylea, Hu...   \n",
       "102         Etobicoke  Mimico NW, The Queensway West, South of Bloor,...   \n",
       "\n",
       "      Latitude  Longitude  \n",
       "0    43.753259 -79.329656  \n",
       "1    43.725882 -79.315572  \n",
       "2    43.654260 -79.360636  \n",
       "3    43.718518 -79.464763  \n",
       "4    43.662301 -79.389494  \n",
       "..         ...        ...  \n",
       "98   43.653654 -79.506944  \n",
       "99   43.665860 -79.383160  \n",
       "100  43.662744 -79.321558  \n",
       "101  43.636258 -79.498509  \n",
       "102  43.628841 -79.520999  \n",
       "\n",
       "[103 rows x 4 columns]"
      ]
     },
     "execution_count": 34,
     "metadata": {},
     "output_type": "execute_result"
    }
   ],
   "source": [
    "df_map.drop(['Postal Code'], axis=1, inplace=True)\n",
    "df_map"
   ]
  },
  {
   "cell_type": "markdown",
   "metadata": {},
   "source": [
    "#### Select only Toronto borough"
   ]
  },
  {
   "cell_type": "code",
   "execution_count": 35,
   "metadata": {},
   "outputs": [
    {
     "data": {
      "text/html": [
       "<div>\n",
       "<style scoped>\n",
       "    .dataframe tbody tr th:only-of-type {\n",
       "        vertical-align: middle;\n",
       "    }\n",
       "\n",
       "    .dataframe tbody tr th {\n",
       "        vertical-align: top;\n",
       "    }\n",
       "\n",
       "    .dataframe thead th {\n",
       "        text-align: right;\n",
       "    }\n",
       "</style>\n",
       "<table border=\"1\" class=\"dataframe\">\n",
       "  <thead>\n",
       "    <tr style=\"text-align: right;\">\n",
       "      <th></th>\n",
       "      <th>Borough</th>\n",
       "      <th>Neighborhood</th>\n",
       "      <th>Latitude</th>\n",
       "      <th>Longitude</th>\n",
       "    </tr>\n",
       "  </thead>\n",
       "  <tbody>\n",
       "    <tr>\n",
       "      <th>0</th>\n",
       "      <td>Downtown Toronto</td>\n",
       "      <td>Regent Park, Harbourfront</td>\n",
       "      <td>43.654260</td>\n",
       "      <td>-79.360636</td>\n",
       "    </tr>\n",
       "    <tr>\n",
       "      <th>1</th>\n",
       "      <td>Downtown Toronto</td>\n",
       "      <td>Queen's Park, Ontario Provincial Government</td>\n",
       "      <td>43.662301</td>\n",
       "      <td>-79.389494</td>\n",
       "    </tr>\n",
       "    <tr>\n",
       "      <th>2</th>\n",
       "      <td>Downtown Toronto</td>\n",
       "      <td>Garden District, Ryerson</td>\n",
       "      <td>43.657162</td>\n",
       "      <td>-79.378937</td>\n",
       "    </tr>\n",
       "    <tr>\n",
       "      <th>3</th>\n",
       "      <td>Downtown Toronto</td>\n",
       "      <td>St. James Town</td>\n",
       "      <td>43.651494</td>\n",
       "      <td>-79.375418</td>\n",
       "    </tr>\n",
       "    <tr>\n",
       "      <th>4</th>\n",
       "      <td>East Toronto</td>\n",
       "      <td>The Beaches</td>\n",
       "      <td>43.676357</td>\n",
       "      <td>-79.293031</td>\n",
       "    </tr>\n",
       "  </tbody>\n",
       "</table>\n",
       "</div>"
      ],
      "text/plain": [
       "            Borough                                 Neighborhood   Latitude  \\\n",
       "0  Downtown Toronto                    Regent Park, Harbourfront  43.654260   \n",
       "1  Downtown Toronto  Queen's Park, Ontario Provincial Government  43.662301   \n",
       "2  Downtown Toronto                     Garden District, Ryerson  43.657162   \n",
       "3  Downtown Toronto                               St. James Town  43.651494   \n",
       "4      East Toronto                                  The Beaches  43.676357   \n",
       "\n",
       "   Longitude  \n",
       "0 -79.360636  \n",
       "1 -79.389494  \n",
       "2 -79.378937  \n",
       "3 -79.375418  \n",
       "4 -79.293031  "
      ]
     },
     "execution_count": 35,
     "metadata": {},
     "output_type": "execute_result"
    }
   ],
   "source": [
    "df_map = df_map[df_map['Borough'].str.contains('Toronto')]\n",
    "df_map.reset_index(drop=True, inplace=True)\n",
    "df_map.head()"
   ]
  },
  {
   "cell_type": "markdown",
   "metadata": {},
   "source": [
    "#### Count uniqued neighborhood in Toronto"
   ]
  },
  {
   "cell_type": "code",
   "execution_count": 36,
   "metadata": {},
   "outputs": [
    {
     "data": {
      "text/plain": [
       "The Beaches                                                                                                   1\n",
       "Central Bay Street                                                                                            1\n",
       "Stn A PO Boxes                                                                                                1\n",
       "Commerce Court, Victoria Hotel                                                                                1\n",
       "Roselawn                                                                                                      1\n",
       "Runnymede, Swansea                                                                                            1\n",
       "University of Toronto, Harbord                                                                                1\n",
       "St. James Town                                                                                                1\n",
       "Dufferin, Dovercourt Village                                                                                  1\n",
       "Davisville North                                                                                              1\n",
       "Parkdale, Roncesvalles                                                                                        1\n",
       "India Bazaar, The Beaches West                                                                                1\n",
       "Garden District, Ryerson                                                                                      1\n",
       "Regent Park, Harbourfront                                                                                     1\n",
       "Church and Wellesley                                                                                          1\n",
       "North Toronto West                                                                                            1\n",
       "Summerhill West, Rathnelly, South Hill, Forest Hill SE, Deer Park                                             1\n",
       "Rosedale                                                                                                      1\n",
       "Richmond, Adelaide, King                                                                                      1\n",
       "The Annex, North Midtown, Yorkville                                                                           1\n",
       "First Canadian Place, Underground city                                                                        1\n",
       "Harbourfront East, Union Station, Toronto Islands                                                             1\n",
       "Brockton, Parkdale Village, Exhibition Place                                                                  1\n",
       "Studio District                                                                                               1\n",
       "Little Portugal, Trinity                                                                                      1\n",
       "Moore Park, Summerhill East                                                                                   1\n",
       "Toronto Dominion Centre, Design Exchange                                                                      1\n",
       "Forest Hill North & West                                                                                      1\n",
       "Business reply mail Processing CentrE                                                                         1\n",
       "Lawrence Park                                                                                                 1\n",
       "CN Tower, King and Spadina, Railway Lands, Harbourfront West, Bathurst Quay, South Niagara, Island airport    1\n",
       "Queen's Park, Ontario Provincial Government                                                                   1\n",
       "Berczy Park                                                                                                   1\n",
       "Kensington Market, Chinatown, Grange Park                                                                     1\n",
       "Christie                                                                                                      1\n",
       "High Park, The Junction South                                                                                 1\n",
       "St. James Town, Cabbagetown                                                                                   1\n",
       "The Danforth West, Riverdale                                                                                  1\n",
       "Davisville                                                                                                    1\n",
       "Name: Neighborhood, dtype: int64"
      ]
     },
     "execution_count": 36,
     "metadata": {},
     "output_type": "execute_result"
    }
   ],
   "source": [
    "df_map['Neighborhood'].value_counts()"
   ]
  },
  {
   "cell_type": "markdown",
   "metadata": {},
   "source": [
    "#### Find geolocation of Toronto"
   ]
  },
  {
   "cell_type": "code",
   "execution_count": 37,
   "metadata": {},
   "outputs": [
    {
     "name": "stdout",
     "output_type": "stream",
     "text": [
      "The geograpical coordinate of Toronto are 43.6534817, -79.3839347.\n"
     ]
    }
   ],
   "source": [
    "address = 'Toronto'\n",
    "\n",
    "geolocator = Nominatim(user_agent=\"toronto_explorer\")\n",
    "location = geolocator.geocode(address)\n",
    "latitude = location.latitude\n",
    "longitude = location.longitude\n",
    "print('The geograpical coordinate of Toronto are {}, {}.'.format(latitude, longitude))"
   ]
  },
  {
   "cell_type": "markdown",
   "metadata": {},
   "source": [
    "#### Visualized Toronto map and neighborhood"
   ]
  },
  {
   "cell_type": "code",
   "execution_count": 38,
   "metadata": {},
   "outputs": [
    {
     "data": {
      "text/html": [
       "<div style=\"width:100%;\"><div style=\"position:relative;width:100%;height:0;padding-bottom:60%;\"><iframe src=\"about:blank\" style=\"position:absolute;width:100%;height:100%;left:0;top:0;border:none !important;\" data-html=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 onload=\"this.contentDocument.open();this.contentDocument.write(atob(this.getAttribute('data-html')));this.contentDocument.close();\" allowfullscreen webkitallowfullscreen mozallowfullscreen></iframe></div></div>"
      ],
      "text/plain": [
       "<folium.folium.Map at 0x1ae18885e48>"
      ]
     },
     "execution_count": 38,
     "metadata": {},
     "output_type": "execute_result"
    }
   ],
   "source": [
    "# create map of New York using latitude and longitude values\n",
    "map_toronto = folium.Map(location=[latitude, longitude], zoom_start=11)\n",
    "\n",
    "# add markers to map\n",
    "for lat, lng, borough, neighborhood in zip(df_map['Latitude'], df_map['Longitude'], df_map['Borough'], df_map['Neighborhood']):\n",
    "    label = '{}, {}'.format(neighborhood, borough)\n",
    "    label = folium.Popup(label, parse_html=True)\n",
    "    folium.CircleMarker(\n",
    "        [lat, lng],\n",
    "        radius=5,\n",
    "        popup=label,\n",
    "        color='blue',\n",
    "        fill=True,\n",
    "        fill_color='#3186cc',\n",
    "        fill_opacity=0.7,\n",
    "        parse_html=False).add_to(map_toronto)  \n",
    "    \n",
    "map_toronto"
   ]
  },
  {
   "cell_type": "code",
   "execution_count": null,
   "metadata": {},
   "outputs": [],
   "source": []
  }
 ],
 "metadata": {
  "kernelspec": {
   "display_name": "Python 3",
   "language": "python",
   "name": "python3"
  },
  "language_info": {
   "codemirror_mode": {
    "name": "ipython",
    "version": 3
   },
   "file_extension": ".py",
   "mimetype": "text/x-python",
   "name": "python",
   "nbconvert_exporter": "python",
   "pygments_lexer": "ipython3",
   "version": "3.7.6"
  }
 },
 "nbformat": 4,
 "nbformat_minor": 4
}
